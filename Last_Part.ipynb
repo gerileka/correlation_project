{
 "cells": [
  {
   "cell_type": "markdown",
   "metadata": {},
   "source": [
    "### Can we predict a market regime from correlation matrix features?\n",
    "\n",
    "\n",
    "https://gmarti.gitlab.io/qfin/2020/09/04/correlation-matrix-features-market-regimes.html"
   ]
  },
  {
   "cell_type": "code",
   "execution_count": 19,
   "metadata": {
    "ExecuteTime": {
     "end_time": "2020-12-05T22:40:03.777131Z",
     "start_time": "2020-12-05T22:40:03.741228Z"
    }
   },
   "outputs": [],
   "source": [
    "%matplotlib inline\n",
    "\n",
    "from multiprocessing import Pool\n",
    "import tqdm\n",
    "import numpy as np\n",
    "import pandas as pd\n",
    "from scipy.cluster import hierarchy\n",
    "from scipy.cluster.hierarchy import cophenet\n",
    "from sklearn.model_selection import train_test_split\n",
    "from sklearn.ensemble import RandomForestClassifier\n",
    "from sklearn.metrics import confusion_matrix\n",
    "import fastcluster\n",
    "import networkx as nx\n",
    "import shap\n",
    "import matplotlib.pyplot as plt\n",
    "import warnings\n",
    "warnings.filterwarnings(\"ignore\")"
   ]
  },
  {
   "cell_type": "code",
   "execution_count": 20,
   "metadata": {
    "ExecuteTime": {
     "end_time": "2020-12-05T22:40:04.137127Z",
     "start_time": "2020-12-05T22:40:04.123165Z"
    }
   },
   "outputs": [],
   "source": [
    "def compute_mst_stats(corr):\n",
    "    dist = (1 - corr) / 2\n",
    "    G = nx.from_numpy_matrix(dist) \n",
    "    mst = nx.minimum_spanning_tree(G)\n",
    "\n",
    "    features = pd.Series()\n",
    "    features['mst_avg_shortest'] = nx.average_shortest_path_length(mst)\n",
    "\n",
    "\n",
    "    closeness_centrality = (pd\n",
    "                            .Series(list(nx\n",
    "                                         .closeness_centrality(mst)\n",
    "                                         .values()))\n",
    "                            .describe())\n",
    "    for stat in closeness_centrality.index[1:]:\n",
    "        features[f'mst_centrality_{stat}'] = closeness_centrality[stat]\n",
    "\n",
    "    return features"
   ]
  },
  {
   "cell_type": "code",
   "execution_count": 30,
   "metadata": {
    "ExecuteTime": {
     "end_time": "2020-12-05T22:45:58.205070Z",
     "start_time": "2020-12-05T22:45:58.073496Z"
    }
   },
   "outputs": [
    {
     "data": {
      "text/plain": [
       "mst_avg_shortest       6.660404\n",
       "mst_centrality_mean    0.155951\n",
       "mst_centrality_std     0.030770\n",
       "mst_centrality_min     0.099899\n",
       "mst_centrality_25%     0.133071\n",
       "mst_centrality_50%     0.152542\n",
       "mst_centrality_75%     0.173989\n",
       "mst_centrality_max     0.240876\n",
       "dtype: float64"
      ]
     },
     "execution_count": 30,
     "metadata": {},
     "output_type": "execute_result"
    }
   ],
   "source": [
    "compute_mst_stats(corr_matrices)"
   ]
  },
  {
   "cell_type": "code",
   "execution_count": 21,
   "metadata": {
    "ExecuteTime": {
     "end_time": "2020-12-05T22:40:05.019594Z",
     "start_time": "2020-12-05T22:40:04.998620Z"
    }
   },
   "outputs": [],
   "source": [
    "def compute_intravar_clusters(model_corr, Z, nb_clusters=5):\n",
    "    clustering_inds = hierarchy.fcluster(Z, nb_clusters,\n",
    "                                         criterion='maxclust')\n",
    "    clusters = {i: [] for i in range(min(clustering_inds),\n",
    "                                     max(clustering_inds) + 1)}\n",
    "    for i, v in enumerate(clustering_inds):\n",
    "        clusters[v].append(i)\n",
    "\n",
    "    total_var = 0\n",
    "    for cluster in clusters:\n",
    "        sub_corr = model_corr[clusters[cluster], :][:, clusters[cluster]]\n",
    "        sa, sb = np.triu_indices(sub_corr.shape[0], k=1)\n",
    "        mean_corr = sub_corr[sa, sb].mean()\n",
    "        cluster_var = sum(\n",
    "            [(sub_corr[i, j] - mean_corr)**2 for i in range(len(sub_corr))\n",
    "             for j in range(i + 1, len(sub_corr))])\n",
    "        total_var += cluster_var\n",
    "    \n",
    "    return total_var\n"
   ]
  },
  {
   "cell_type": "code",
   "execution_count": 22,
   "metadata": {
    "ExecuteTime": {
     "end_time": "2020-12-05T22:40:05.855105Z",
     "start_time": "2020-12-05T22:40:05.823192Z"
    }
   },
   "outputs": [],
   "source": [
    "def compute_features_from_correl(model_corr):\n",
    "    n = len(model_corr)\n",
    "    a, b = np.triu_indices(n, k=1)\n",
    "  \n",
    "    features = pd.Series()\n",
    "    coefficients = model_corr[a, b].flatten()\n",
    "\n",
    "    coeffs = pd.Series(coefficients)\n",
    "    coeffs_stats = coeffs.describe()\n",
    "    for stat in coeffs_stats.index[1:]:\n",
    "        features[f'coeffs_{stat}'] = coeffs_stats[stat]\n",
    "    features['coeffs_1%'] = coeffs.quantile(q=0.01)\n",
    "    features['coeffs_99%'] = coeffs.quantile(q=0.99)\n",
    "    features['coeffs_10%'] = coeffs.quantile(q=0.1)\n",
    "    features['coeffs_90%'] = coeffs.quantile(q=0.9)\n",
    "    features['coeffs_99-90'] = features['coeffs_99%'] - features['coeffs_90%']\n",
    "    features['coeffs_10-1'] = features['coeffs_10%'] - features['coeffs_1%']\n",
    "\n",
    "\n",
    "    # eigenvals\n",
    "    eigenvals, eigenvecs = np.linalg.eig(model_corr)\n",
    "    permutation = np.argsort(eigenvals)[::-1]\n",
    "    eigenvals = eigenvals[permutation]\n",
    "    eigenvecs = eigenvecs[:, permutation]\n",
    "\n",
    "    pf_vector = eigenvecs[:, np.argmax(eigenvals)]\n",
    "    if len(pf_vector[pf_vector < 0]) > len(pf_vector[pf_vector > 0]):\n",
    "        pf_vector = -pf_vector\n",
    "\n",
    "    features['varex_eig1'] = float(eigenvals[0] / sum(eigenvals))\n",
    "    features['varex_eig_top5'] = (float(sum(eigenvals[:5])) /\n",
    "        float(sum(eigenvals)))\n",
    "    features['varex_eig_top30'] = (float(sum(eigenvals[:30])) /\n",
    "        float(sum(eigenvals)))\n",
    "    features['varex_5-1'] = (features['varex_eig_top5'] -\n",
    "        features['varex_eig1'])\n",
    "    features['varex_30-5'] = (features['varex_eig_top30'] -\n",
    "        features['varex_eig_top5'])\n",
    "    # Marcenko-Pastur (RMT)\n",
    "    T, N = 252, n\n",
    "    MP_cutoff = (1 + np.sqrt(N / T))**2\n",
    "    # variance explained by eigenvals outside of the MP distribution\n",
    "    features['varex_eig_MP'] = (\n",
    "        float(sum([e for e in eigenvals if e > MP_cutoff])) /\n",
    "        float(sum(eigenvals)))\n",
    "    \n",
    "    # determinant\n",
    "    features['determinant'] = np.prod(eigenvals)\n",
    "    \n",
    "    # condition number\n",
    "    features['condition_number'] = abs(eigenvals[0]) / abs(eigenvals[-1])\n",
    "\n",
    "\n",
    "    # stats of the first eigenvector entries\n",
    "    pf_stats = pd.Series(pf_vector).describe()\n",
    "    for stat in pf_stats.index[1:]:\n",
    "        features[f'pf_{stat}'] = float(pf_stats[stat])\n",
    "\n",
    "\n",
    "    # stats on the MST\n",
    "    features = pd.concat([features, compute_mst_stats(model_corr)],\n",
    "                         axis=0)\n",
    "\n",
    "    # stats on the linkage\n",
    "    dist = np.sqrt(2 * (1 - model_corr))\n",
    "    for algo in ['ward', 'single', 'complete', 'average']:\n",
    "        Z = fastcluster.linkage(dist[a, b], method=algo)\n",
    "        features[f'coph_corr_{algo}'] = cophenet(Z, dist[a, b])[0]\n",
    "        \n",
    "    # stats on the clusters\n",
    "    Z = fastcluster.linkage(dist[a, b], method='ward')\n",
    "    features['cl_intravar_5'] = compute_intravar_clusters(\n",
    "        model_corr, Z, nb_clusters=5)\n",
    "    features['cl_intravar_10'] = compute_intravar_clusters(\n",
    "        model_corr, Z, nb_clusters=10)\n",
    "    features['cl_intravar_25'] = compute_intravar_clusters(\n",
    "        model_corr, Z, nb_clusters=25)\n",
    "    features['cl_intravar_5-10'] = (\n",
    "        features['cl_intravar_5'] - features['cl_intravar_10'])\n",
    "    features['cl_intravar_10-25'] = (\n",
    "        features['cl_intravar_10'] - features['cl_intravar_25'])\n",
    "\n",
    "    return features.sort_index()\n",
    "def compute_dataset_features(mats):\n",
    "    all_features = []\n",
    "    for i in range(mats.shape[0]):\n",
    "        model_corr = mats[i, :, :]\n",
    "\n",
    "        features = compute_features_from_correl(model_corr)\n",
    "\n",
    "        if features is not None:\n",
    "            all_features.append(features)\n",
    "    \n",
    "    return pd.concat(all_features, axis=1).T"
   ]
  },
  {
   "cell_type": "code",
   "execution_count": 23,
   "metadata": {
    "ExecuteTime": {
     "end_time": "2020-12-05T22:40:07.494286Z",
     "start_time": "2020-12-05T22:40:07.477331Z"
    }
   },
   "outputs": [],
   "source": [
    "def compute_dataset_features__par(mats):\n",
    "    p = Pool(3)\n",
    "    all_features = p.imap(compute_features_from_correl,\n",
    "                          tqdm.tqdm([mats[i, :, :]\n",
    "                                     for i in range(mats.shape[0])]))\n",
    "    p.close()\n",
    "    p.join()\n",
    "    \n",
    "    return pd.concat(all_features, axis=1).T"
   ]
  },
  {
   "cell_type": "code",
   "execution_count": 29,
   "metadata": {
    "ExecuteTime": {
     "end_time": "2020-12-05T22:44:52.570738Z",
     "start_time": "2020-12-05T22:44:52.507905Z"
    }
   },
   "outputs": [
    {
     "ename": "IndexError",
     "evalue": "too many indices for array",
     "output_type": "error",
     "traceback": [
      "\u001b[1;31m---------------------------------------------------------------------------\u001b[0m",
      "\u001b[1;31mIndexError\u001b[0m                                Traceback (most recent call last)",
      "\u001b[1;32m<ipython-input-29-e2393652269f>\u001b[0m in \u001b[0;36m<module>\u001b[1;34m\u001b[0m\n\u001b[0;32m     14\u001b[0m \u001b[1;31m#     plt.show()\u001b[0m\u001b[1;33m\u001b[0m\u001b[1;33m\u001b[0m\u001b[1;33m\u001b[0m\u001b[0m\n\u001b[0;32m     15\u001b[0m \u001b[1;33m\u001b[0m\u001b[0m\n\u001b[1;32m---> 16\u001b[1;33m     \u001b[0mcorr_features\u001b[0m \u001b[1;33m=\u001b[0m \u001b[0mcompute_dataset_features__par\u001b[0m\u001b[1;33m(\u001b[0m\u001b[0mcorr_matrices\u001b[0m\u001b[1;33m)\u001b[0m\u001b[1;33m\u001b[0m\u001b[1;33m\u001b[0m\u001b[0m\n\u001b[0m\u001b[0;32m     17\u001b[0m \u001b[1;33m\u001b[0m\u001b[0m\n\u001b[0;32m     18\u001b[0m     \u001b[0mregime_features\u001b[0m\u001b[1;33m[\u001b[0m\u001b[0mregime\u001b[0m\u001b[1;33m]\u001b[0m \u001b[1;33m=\u001b[0m \u001b[0mcorr_features\u001b[0m\u001b[1;33m.\u001b[0m\u001b[0mastype\u001b[0m\u001b[1;33m(\u001b[0m\u001b[0mfloat\u001b[0m\u001b[1;33m)\u001b[0m\u001b[1;33m\u001b[0m\u001b[1;33m\u001b[0m\u001b[0m\n",
      "\u001b[1;32m<ipython-input-23-102f61119b6a>\u001b[0m in \u001b[0;36mcompute_dataset_features__par\u001b[1;34m(mats)\u001b[0m\n\u001b[0;32m      3\u001b[0m     all_features = p.imap(compute_features_from_correl,\n\u001b[0;32m      4\u001b[0m                           tqdm.tqdm([mats[i, :, :]\n\u001b[1;32m----> 5\u001b[1;33m                                      for i in range(mats.shape[0])]))\n\u001b[0m\u001b[0;32m      6\u001b[0m     \u001b[0mp\u001b[0m\u001b[1;33m.\u001b[0m\u001b[0mclose\u001b[0m\u001b[1;33m(\u001b[0m\u001b[1;33m)\u001b[0m\u001b[1;33m\u001b[0m\u001b[1;33m\u001b[0m\u001b[0m\n\u001b[0;32m      7\u001b[0m     \u001b[0mp\u001b[0m\u001b[1;33m.\u001b[0m\u001b[0mjoin\u001b[0m\u001b[1;33m(\u001b[0m\u001b[1;33m)\u001b[0m\u001b[1;33m\u001b[0m\u001b[1;33m\u001b[0m\u001b[0m\n",
      "\u001b[1;32m<ipython-input-23-102f61119b6a>\u001b[0m in \u001b[0;36m<listcomp>\u001b[1;34m(.0)\u001b[0m\n\u001b[0;32m      3\u001b[0m     all_features = p.imap(compute_features_from_correl,\n\u001b[0;32m      4\u001b[0m                           tqdm.tqdm([mats[i, :, :]\n\u001b[1;32m----> 5\u001b[1;33m                                      for i in range(mats.shape[0])]))\n\u001b[0m\u001b[0;32m      6\u001b[0m     \u001b[0mp\u001b[0m\u001b[1;33m.\u001b[0m\u001b[0mclose\u001b[0m\u001b[1;33m(\u001b[0m\u001b[1;33m)\u001b[0m\u001b[1;33m\u001b[0m\u001b[1;33m\u001b[0m\u001b[0m\n\u001b[0;32m      7\u001b[0m     \u001b[0mp\u001b[0m\u001b[1;33m.\u001b[0m\u001b[0mjoin\u001b[0m\u001b[1;33m(\u001b[0m\u001b[1;33m)\u001b[0m\u001b[1;33m\u001b[0m\u001b[1;33m\u001b[0m\u001b[0m\n",
      "\u001b[1;31mIndexError\u001b[0m: too many indices for array"
     ]
    }
   ],
   "source": [
    "regimes = ['stressed', 'normal', 'rally']\n",
    "regime_features = {}\n",
    "for regime in regimes:\n",
    "#     corr_matrices = np.load(f'{regime}_mats.npy')\n",
    "    \n",
    "    corr_matrices = np.load(f'{regime}_mats/mat_1.npy')\n",
    "#     'stressed_mats/mat_{}.npy'.format(stressed_count)\n",
    "    \n",
    "#     plt.figure(figsize=(16, 16))\n",
    "#     for i in range(16):\n",
    "#         corr = corr_matrices[i, :, :]\n",
    "#         plt.subplot(4, 4, i + 1)\n",
    "#         plt.pcolormesh(corr)\n",
    "#     plt.show()\n",
    "    \n",
    "    corr_features = compute_dataset_features__par(corr_matrices)\n",
    "\n",
    "    regime_features[regime] = corr_features.astype(float)"
   ]
  },
  {
   "cell_type": "code",
   "execution_count": 26,
   "metadata": {
    "ExecuteTime": {
     "end_time": "2020-12-05T22:40:39.612548Z",
     "start_time": "2020-12-05T22:40:39.600579Z"
    }
   },
   "outputs": [
    {
     "data": {
      "text/plain": [
       "array([[1.        , 0.85538722, 0.78865438, ..., 0.44014596, 0.45355581,\n",
       "        0.32211561],\n",
       "       [0.85538722, 1.        , 0.89231274, ..., 0.45458307, 0.40641034,\n",
       "        0.28569088],\n",
       "       [0.78865438, 0.89231274, 1.        , ..., 0.43682365, 0.38051702,\n",
       "        0.2845055 ],\n",
       "       ...,\n",
       "       [0.44014596, 0.45458307, 0.43682365, ..., 1.        , 0.74888483,\n",
       "        0.36628475],\n",
       "       [0.45355581, 0.40641034, 0.38051702, ..., 0.74888483, 1.        ,\n",
       "        0.37223724],\n",
       "       [0.32211561, 0.28569088, 0.2845055 , ..., 0.36628475, 0.37223724,\n",
       "        1.        ]])"
      ]
     },
     "execution_count": 26,
     "metadata": {},
     "output_type": "execute_result"
    }
   ],
   "source": [
    "corr_matrices"
   ]
  },
  {
   "cell_type": "code",
   "execution_count": 25,
   "metadata": {
    "ExecuteTime": {
     "end_time": "2020-12-05T22:40:25.579249Z",
     "start_time": "2020-12-05T22:40:25.565287Z"
    }
   },
   "outputs": [
    {
     "data": {
      "text/plain": [
       "(100, 100)"
      ]
     },
     "execution_count": 25,
     "metadata": {},
     "output_type": "execute_result"
    }
   ],
   "source": [
    "corr_matrices.shape"
   ]
  },
  {
   "cell_type": "code",
   "execution_count": 28,
   "metadata": {
    "ExecuteTime": {
     "end_time": "2020-12-05T22:44:21.949675Z",
     "start_time": "2020-12-05T22:44:21.700224Z"
    }
   },
   "outputs": [
    {
     "data": {
      "text/plain": [
       "<matplotlib.collections.QuadMesh at 0x15dc0e18ef0>"
      ]
     },
     "execution_count": 28,
     "metadata": {},
     "output_type": "execute_result"
    },
    {
     "data": {
      "image/png": "[encoded data removed]",
      "text/plain": [
       "<Figure size 432x288 with 1 Axes>"
      ]
     },
     "metadata": {
      "needs_background": "light"
     },
     "output_type": "display_data"
    }
   ],
   "source": [
    "plt.pcolormesh(corr_matrices)"
   ]
  },
  {
   "cell_type": "code",
   "execution_count": null,
   "metadata": {},
   "outputs": [],
   "source": []
  }
 ],
 "metadata": {
  "kernelspec": {
   "display_name": "Python 3",
   "language": "python",
   "name": "python3"
  },
  "language_info": {
   "codemirror_mode": {
    "name": "ipython",
    "version": 3
   },
   "file_extension": ".py",
   "mimetype": "text/x-python",
   "name": "python",
   "nbconvert_exporter": "python",
   "pygments_lexer": "ipython3",
   "version": "3.7.3"
  },
  "latex_envs": {
   "LaTeX_envs_menu_present": true,
   "autoclose": false,
   "autocomplete": true,
   "bibliofile": "biblio.bib",
   "cite_by": "apalike",
   "current_citInitial": 1,
   "eqLabelWithNumbers": true,
   "eqNumInitial": 1,
   "hotkeys": {
    "equation": "Ctrl-E",
    "itemize": "Ctrl-I"
   },
   "labels_anchors": false,
   "latex_user_defs": false,
   "report_style_numbering": false,
   "user_envs_cfg": false
  }
 },
 "nbformat": 4,
 "nbformat_minor": 2
}
